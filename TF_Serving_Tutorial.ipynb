{
  "cells": [
    {
      "cell_type": "markdown",
      "metadata": {
        "id": "1gBMILGXJ29r"
      },
      "source": [
        "# Introduction\n",
        "[TensorFlow Serving]((https://www.tensorflow.org/tfx/guide/serving)) is a flexible and high-performance library that serves machine learning models. It simplifies the deployment of new algorithms and experiments while maintaining consistent server architecture and APIs. This tutorial provides a step-by-step guide on training a model, saving it, and serving it using TensorFlow Serving.\n",
        "\n",
        "The tutorial uses a straightforward model to ensure clarity, emphasizing the serving process.\n",
        "\n",
        "Model Details:\n",
        "\n",
        "Dataset: The Fashion MNIST dataset, which contains grayscale images of 10 different clothing types. Each image is 28x28 pixels.\n",
        "\n",
        "Architecture:\n",
        "Input: Flatten layer to transform the 2D 28x28 pixel image into a 1D array.\n",
        "\n",
        "Hidden: Dense layer with 128 neurons and ReLU activation.\n",
        "\n",
        "Output: Dense layer with 10 neurons representing the clothing categories."
      ]
    },
    {
      "cell_type": "markdown",
      "metadata": {
        "id": "cyWYOpW_rgDB"
      },
      "source": [
        "# Importing necessary libraries\n",
        "Start by importing the necessary libraries and loading the dataset."
      ]
    },
    {
      "cell_type": "code",
      "execution_count": null,
      "metadata": {
        "id": "snVsCeFzru3o"
      },
      "outputs": [],
      "source": [
        "import os\n",
        "import subprocess\n",
        "import json\n",
        "import requests\n",
        "import numpy as np\n",
        "import tensorflow as tf\n",
        "from tensorflow import keras\n",
        "import matplotlib.pyplot as plt"
      ]
    },
    {
      "cell_type": "markdown",
      "metadata": {
        "id": "FMjDwpyrsKUx"
      },
      "source": [
        "# Loading and Preprocessing data\n",
        "\n",
        "[Fashion MNIST](https://www.tensorflow.org/datasets/catalog/fashion_mnist) a dataset introduced as an alternative to the traditional MNIST dataset. While the classic MNIST contains handwritten digits, Fashion MNIST showcases images of Zalando's articles, aiming to provide a more challenging benchmark for machine learning algorithms.\n",
        "\n",
        "For the purpose of this demonstration, the pixel values of these images are normalized between 0 and 1 to aid in the training process of the neural network.\n",
        "\n",
        "Now, let's load the dataset and visualize some of its content."
      ]
    },
    {
      "cell_type": "code",
      "execution_count": null,
      "metadata": {
        "id": "MsAjc6s8rxW3"
      },
      "outputs": [],
      "source": [
        "def load_and_preprocess_data():\n",
        "    # Load the Fashion MNIST dataset\n",
        "    (train_images, train_labels), (test_images, test_labels) = keras.datasets.fashion_mnist.load_data()\n",
        "\n",
        "    # Normalize the pixel values\n",
        "    train_images = train_images / 255.0\n",
        "    test_images = test_images / 255.0\n",
        "\n",
        "    return train_images, train_labels, test_images, test_labels"
      ]
    },
    {
      "cell_type": "code",
      "execution_count": null,
      "metadata": {
        "id": "7YOasL7xspGJ"
      },
      "outputs": [],
      "source": [
        "def display_sample_images(train_images, train_labels, class_names):\n",
        "    plt.figure(figsize=(10, 5))\n",
        "    for i in range(5):\n",
        "        plt.subplot(1, 5, i+1)\n",
        "        plt.xticks([])\n",
        "        plt.yticks([])\n",
        "        plt.grid(False)\n",
        "        plt.imshow(train_images[i], cmap=plt.cm.binary)\n",
        "        plt.xlabel(class_names[train_labels[i]])\n",
        "    plt.show()"
      ]
    },
    {
      "cell_type": "code",
      "execution_count": null,
      "metadata": {
        "colab": {
          "base_uri": "https://localhost:8080/",
          "height": 306
        },
        "id": "zpajDkWys_dJ",
        "outputId": "aa614356-ea7e-46b9-809f-398ea15322cf"
      },
      "outputs": [
        {
          "name": "stdout",
          "output_type": "stream",
          "text": [
            "Downloading data from https://storage.googleapis.com/tensorflow/tf-keras-datasets/train-labels-idx1-ubyte.gz\n",
            "29515/29515 [==============================] - 0s 0us/step\n",
            "Downloading data from https://storage.googleapis.com/tensorflow/tf-keras-datasets/train-images-idx3-ubyte.gz\n",
            "26421880/26421880 [==============================] - 0s 0us/step\n",
            "Downloading data from https://storage.googleapis.com/tensorflow/tf-keras-datasets/t10k-labels-idx1-ubyte.gz\n",
            "5148/5148 [==============================] - 0s 0us/step\n",
            "Downloading data from https://storage.googleapis.com/tensorflow/tf-keras-datasets/t10k-images-idx3-ubyte.gz\n",
            "4422102/4422102 [==============================] - 0s 0us/step\n"
          ]
        },
        {
          "data": {
            "image/png": "[encoded data removed]",
            "text/plain": [
              "<Figure size 1000x500 with 5 Axes>"
            ]
          },
          "metadata": {},
          "output_type": "display_data"
        }
      ],
      "source": [
        "train_images, train_labels, test_images, test_labels = load_and_preprocess_data()\n",
        "\n",
        "class_names = ['T-shirt/top', 'Trouser', 'Pullover', 'Dress', 'Coat',\n",
        "               'Sandal', 'Shirt', 'Sneaker', 'Bag', 'Ankle boot']\n",
        "\n",
        "display_sample_images(train_images, train_labels, class_names)\n"
      ]
    },
    {
      "cell_type": "markdown",
      "metadata": {
        "id": "TlkFCWJbtdtR"
      },
      "source": [
        "# Model creation and Training\n",
        "\n",
        "Define a neural network model, complile it, and train it."
      ]
    },
    {
      "cell_type": "code",
      "execution_count": null,
      "metadata": {
        "id": "NmX90t9mtVyH"
      },
      "outputs": [],
      "source": [
        "def create_and_train_model(train_images, train_labels):\n",
        "    model = keras.Sequential([\n",
        "        keras.layers.Flatten(input_shape=(28, 28)),\n",
        "        keras.layers.Dense(128, activation='relu'),\n",
        "        keras.layers.Dense(10)\n",
        "    ])\n",
        "    model.compile(optimizer='adam',\n",
        "                  loss=tf.keras.losses.SparseCategoricalCrossentropy(from_logits=True),\n",
        "                  metrics=['accuracy'])\n",
        "    model.fit(train_images, train_labels, epochs=5)\n",
        "    return model"
      ]
    },
    {
      "cell_type": "code",
      "execution_count": null,
      "metadata": {
        "colab": {
          "base_uri": "https://localhost:8080/"
        },
        "id": "v3X0eDJDNYLK",
        "outputId": "31cc1311-7c55-48e4-e4b5-d540d9b3b139"
      },
      "outputs": [
        {
          "output_type": "stream",
          "name": "stdout",
          "text": [
            "Epoch 1/5\n",
            "1875/1875 [==============================] - 7s 3ms/step - loss: 0.4981 - accuracy: 0.8254\n",
            "Epoch 2/5\n",
            "1875/1875 [==============================] - 19s 10ms/step - loss: 0.3762 - accuracy: 0.8648\n",
            "Epoch 3/5\n",
            "1875/1875 [==============================] - 14s 8ms/step - loss: 0.3364 - accuracy: 0.8779\n",
            "Epoch 4/5\n",
            "1875/1875 [==============================] - 10s 5ms/step - loss: 0.3116 - accuracy: 0.8848\n",
            "Epoch 5/5\n",
            "1875/1875 [==============================] - 7s 4ms/step - loss: 0.2937 - accuracy: 0.8912\n",
            "Model: \"sequential_2\"\n",
            "_________________________________________________________________\n",
            " Layer (type)                Output Shape              Param #   \n",
            "=================================================================\n",
            " flatten_2 (Flatten)         (None, 784)               0         \n",
            "                                                                 \n",
            " dense_4 (Dense)             (None, 128)               100480    \n",
            "                                                                 \n",
            " dense_5 (Dense)             (None, 10)                1290      \n",
            "                                                                 \n",
            "=================================================================\n",
            "Total params: 101770 (397.54 KB)\n",
            "Trainable params: 101770 (397.54 KB)\n",
            "Non-trainable params: 0 (0.00 Byte)\n",
            "_________________________________________________________________\n"
          ]
        }
      ],
      "source": [
        "model = create_and_train_model(train_images, train_labels)\n",
        "model.summary()\n"
      ]
    },
    {
      "cell_type": "markdown",
      "metadata": {
        "id": "MGrlqJe6uEUo"
      },
      "source": [
        "# Saving the Model for TensorFlow Serving\n",
        "\n",
        "Save the trained model in TensorFlow's SavedModel format, which is optimized for serving."
      ]
    },
    {
      "cell_type": "code",
      "execution_count": null,
      "metadata": {
        "id": "dox9TsXat1Xu"
      },
      "outputs": [],
      "source": [
        "def save_model_for_serving(model, MODEL_DIR, version=1):\n",
        "    export_path = os.path.join(MODEL_DIR, str(version))\n",
        "    tf.keras.models.save_model(\n",
        "        model,\n",
        "        export_path,\n",
        "        overwrite=True,\n",
        "        include_optimizer=True\n",
        "    )\n",
        "    return export_path"
      ]
    },
    {
      "cell_type": "code",
      "execution_count": null,
      "metadata": {
        "colab": {
          "base_uri": "https://localhost:8080/"
        },
        "id": "WDnIjSYquYDB",
        "outputId": "311aa51b-83d2-42db-c491-e4a831343aeb"
      },
      "outputs": [
        {
          "output_type": "stream",
          "name": "stdout",
          "text": [
            "Files of model saved in /content/saved_model/1:\n",
            "\n",
            "['variables', 'saved_model.pb', 'keras_metadata.pb', 'assets', 'fingerprint.pb']\n"
          ]
        }
      ],
      "source": [
        "MODEL_DIR = os.path.abspath(\"saved_model\")\n",
        "\n",
        "export_path = save_model_for_serving(model, MODEL_DIR)\n",
        "print(f'Files of model saved in {export_path}:\\n')\n",
        "print(os.listdir(export_path))\n"
      ]
    },
    {
      "cell_type": "markdown",
      "metadata": {
        "id": "dZDxtQrYvHol"
      },
      "source": [
        "# Examining the Saved Model"
      ]
    },
    {
      "cell_type": "code",
      "execution_count": null,
      "metadata": {
        "colab": {
          "base_uri": "https://localhost:8080/"
        },
        "id": "kC3_-Xy5usZ0",
        "outputId": "b452705d-9368-4552-a8e0-bb57922f4d4c"
      },
      "outputs": [
        {
          "output_type": "stream",
          "name": "stdout",
          "text": [
            "2023-09-28 14:57:42.326913: W tensorflow/compiler/tf2tensorrt/utils/py_utils.cc:38] TF-TRT Warning: Could not find TensorRT\n",
            "The given SavedModel SignatureDef contains the following input(s):\n",
            "  inputs['flatten_2_input'] tensor_info:\n",
            "      dtype: DT_FLOAT\n",
            "      shape: (-1, 28, 28)\n",
            "      name: serving_default_flatten_2_input:0\n",
            "The given SavedModel SignatureDef contains the following output(s):\n",
            "  outputs['dense_5'] tensor_info:\n",
            "      dtype: DT_FLOAT\n",
            "      shape: (-1, 10)\n",
            "      name: StatefulPartitionedCall:0\n",
            "Method name is: tensorflow/serving/predict\n"
          ]
        }
      ],
      "source": [
        "!saved_model_cli show --dir {export_path} --tag_set serve --signature_def serving_default"
      ]
    },
    {
      "cell_type": "markdown",
      "metadata": {
        "id": "QvqY88iewxKA"
      },
      "source": [
        "## Install TensorFlow Serving\n",
        "\n",
        "Install TensorFlow Seving on the Colab instance"
      ]
    },
    {
      "cell_type": "code",
      "execution_count": null,
      "metadata": {
        "colab": {
          "base_uri": "https://localhost:8080/"
        },
        "id": "suaFKAFAOVSN",
        "outputId": "73e5622c-1432-4532-a6fe-c3161ba9604b"
      },
      "outputs": [
        {
          "output_type": "stream",
          "name": "stdout",
          "text": [
            "--2023-09-28 14:57:45--  http://storage.googleapis.com/tensorflow-serving-apt/pool/tensorflow-model-server-universal-2.8.0/t/tensorflow-model-server-universal/tensorflow-model-server-universal_2.8.0_all.deb\n",
            "Resolving storage.googleapis.com (storage.googleapis.com)... 172.253.122.207, 172.253.63.207, 142.250.31.207, ...\n",
            "Connecting to storage.googleapis.com (storage.googleapis.com)|172.253.122.207|:80... connected.\n",
            "HTTP request sent, awaiting response... 200 OK\n",
            "Length: 335421916 (320M) [application/x-debian-package]\n",
            "Saving to: ‘tensorflow-model-server-universal_2.8.0_all.deb.2’\n",
            "\n",
            "tensorflow-model-se 100%[===================>] 319.88M  49.0MB/s    in 6.0s    \n",
            "\n",
            "2023-09-28 14:57:51 (53.4 MB/s) - ‘tensorflow-model-server-universal_2.8.0_all.deb.2’ saved [335421916/335421916]\n",
            "\n",
            "(Reading database ... 120896 files and directories currently installed.)\n",
            "Preparing to unpack tensorflow-model-server-universal_2.8.0_all.deb ...\n",
            "Unpacking tensorflow-model-server-universal (2.8.0) over (2.8.0) ...\n",
            "Setting up tensorflow-model-server-universal (2.8.0) ...\n"
          ]
        }
      ],
      "source": [
        "!wget 'http://storage.googleapis.com/tensorflow-serving-apt/pool/tensorflow-model-server-universal-2.8.0/t/tensorflow-model-server-universal/tensorflow-model-server-universal_2.8.0_all.deb'\n",
        "!dpkg -i tensorflow-model-server-universal_2.8.0_all.deb\n"
      ]
    },
    {
      "cell_type": "markdown",
      "metadata": {
        "id": "YMbA7XFaw0pR"
      },
      "source": [
        "## Start Running TensorFlow Serving"
      ]
    },
    {
      "cell_type": "code",
      "execution_count": null,
      "metadata": {
        "id": "Ml1pyf1AwjRD"
      },
      "outputs": [],
      "source": [
        "os.environ[\"MODEL_DIR\"] = MODEL_DIR"
      ]
    },
    {
      "cell_type": "code",
      "execution_count": null,
      "metadata": {
        "id": "efG8EwqjOe33"
      },
      "outputs": [],
      "source": [
        "def serve_model(MODEL_DIR, log_file_path=\"server.log\"):\n",
        "    command = (\"tensorflow_model_server --rest_api_port=8501 \"\n",
        "               \"--model_name=fashion_model \"\n",
        "               f\"--model_base_path={MODEL_DIR}\")\n",
        "    with open(log_file_path, \"a\") as log_file:\n",
        "        proc = subprocess.Popen(command.split(), stdout=log_file, stderr=subprocess.STDOUT)\n",
        "    return proc"
      ]
    },
    {
      "cell_type": "code",
      "execution_count": null,
      "metadata": {
        "id": "pWRNMHspOghF"
      },
      "outputs": [],
      "source": [
        "server_process = serve_model(MODEL_DIR)\n"
      ]
    },
    {
      "cell_type": "markdown",
      "metadata": {
        "id": "6FhCUquOC56B"
      },
      "source": [
        "# Making Predictions with the Served Model"
      ]
    },
    {
      "cell_type": "code",
      "execution_count": null,
      "metadata": {
        "id": "EfW8pVyeOx7Y"
      },
      "outputs": [],
      "source": [
        "def make_inference_request(img):\n",
        "    data = json.dumps({\"instances\": img.tolist()})\n",
        "    headers = {\"content-type\": \"application/json\"}\n",
        "    url = 'http://localhost:8501/v1/models/fashion_model:predict'\n",
        "    response = requests.post(url, data=data, headers=headers)\n",
        "    predictions = json.loads(response.text)['predictions']\n",
        "    return predictions"
      ]
    },
    {
      "cell_type": "code",
      "execution_count": null,
      "metadata": {
        "colab": {
          "base_uri": "https://localhost:8080/",
          "height": 489
        },
        "id": "A-cVHyHXO0kJ",
        "outputId": "c2eafa01-1cc8-4bf7-bfbd-bdd089540556"
      },
      "outputs": [
        {
          "output_type": "display_data",
          "data": {
            "text/plain": [
              "<Figure size 500x500 with 1 Axes>"
            ],
            "image/png": "[encoded data removed]"
          },
          "metadata": {}
        }
      ],
      "source": [
        "predictions = make_inference_request(test_images[100])\n",
        "predicted_label = np.argmax(predictions[0])\n",
        "\n",
        "plt.figure(figsize=(5, 5))\n",
        "plt.imshow(test_images[100], cmap=plt.cm.binary)\n",
        "plt.title(f\"Predicted: {class_names[predicted_label]}\")\n",
        "plt.show()\n"
      ]
    },
    {
      "cell_type": "markdown",
      "metadata": {
        "id": "wjIXsPphPkjQ"
      },
      "source": [
        "# Shutting Down the TensorFlow ModelServer\n",
        "\n",
        "After serving your model and making predictions, it's a good practice to shut down the TensorFlow ModelServer, especially if you're running on limited resources or in an environment like Google Colab.\n",
        "\n",
        "To gracefully shut down the server:"
      ]
    },
    {
      "cell_type": "code",
      "execution_count": null,
      "metadata": {
        "id": "TB5rnZMzP3sV",
        "colab": {
          "base_uri": "https://localhost:8080/"
        },
        "outputId": "43e8cb54-02c4-40dd-ee0e-b0c491706101"
      },
      "outputs": [
        {
          "output_type": "execute_result",
          "data": {
            "text/plain": [
              "-15"
            ]
          },
          "metadata": {},
          "execution_count": 56
        }
      ],
      "source": [
        "# Gracefully terminate the process\n",
        "server_process.terminate()\n",
        "\n",
        "# Wait for a moment to ensure it's terminated\n",
        "server_process.wait()\n"
      ]
    },
    {
      "cell_type": "markdown",
      "metadata": {
        "id": "O5iA8F6SO6ma"
      },
      "source": [
        "# Conclusion\n",
        "\n",
        "TensorFlow Serving offers a consistent and efficient way to deploy machine learning models. The server can manage multiple models, handle different versions of the same model, and even enable A/B testing of live models."
      ]
    },
    {
      "cell_type": "markdown",
      "metadata": {
        "id": "GnCYaCCoO_N7"
      },
      "source": [
        "# References\n",
        "\n",
        "TensorFlow Serving: https://www.tensorflow.org/tfx/guide/serving"
      ]
    },
    {
      "cell_type": "code",
      "execution_count": null,
      "metadata": {
        "id": "dtYqM4RrPEch"
      },
      "outputs": [],
      "source": []
    }
  ],
  "metadata": {
    "colab": {
      "provenance": []
    },
    "kernelspec": {
      "display_name": "Python 3",
      "name": "python3"
    },
    "language_info": {
      "name": "python"
    }
  },
  "nbformat": 4,
  "nbformat_minor": 0
}